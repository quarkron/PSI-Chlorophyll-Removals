{
 "cells": [
  {
   "cell_type": "code",
   "execution_count": null,
   "metadata": {},
   "outputs": [],
   "source": [
    "import graph_constructor as gc \n",
    "import node_metrics_calculator as nmc\n",
    "import seaborn as sns\n",
    "import numpy as np\n",
    "import os "
   ]
  },
  {
   "cell_type": "code",
   "execution_count": null,
   "metadata": {},
   "outputs": [],
   "source": [
    "N = 96\n",
    "numSims = 1000\n",
    "qeffBC_data = np.zeros((N-1, numSims))\n",
    "\n",
    "for run in range(numSims):\n",
    "    print('Run {} of {}'.format(run+1, numSims))\n",
    "    g = gc.Graph()\n",
    "    #Initialize all nodes\n",
    "    for i in range(N): \n",
    "        g.addNode(gc.Node(nmc.ps1_df, i))\n",
    "    for i in range(N):\n",
    "        for j in range(N):\n",
    "            if i != j:\n",
    "                node_i = g.nodes[i]\n",
    "                node_j = g.nodes[j]\n",
    "                edge_add = gc.Edge(node_i, node_j)\n",
    "                edge_add.setWeight(gc.transfer_rate(node_i, node_j))\n",
    "                g.addEdge(edge_add)\n",
    "    g.init_Costs()\n",
    "    qeffBC_data[0,:]= g.Qeff()\n",
    "\n",
    "    while  len(g.nodes) > 2:\n",
    "        bc_dict = g.betweenessCentrality()\n",
    "        BCs = [bc_dict[g.nodes[i]] for i in range(len(g.nodes))]\n",
    "        indices = [i for i in range(len(BCs)) if BCs[i] == max(BCs) and str(g.nodes[i]) not in ['CLA1011.A', 'CLA1021.B']]\n",
    "        g.removeNode(g.nodes[np.random.choice(indices)])\n",
    "        qeffBC_data[N- len(g.nodes), run] = g.Qeff()\n",
    "\n",
    "\n",
    "filename3 = os.getcwd() + \"/data/qeff_BCs.csv\"\n",
    "\n",
    "np.savetxt(filename3, qeffBC_data, delimiter=',')\n"
   ]
  }
 ],
 "metadata": {
  "language_info": {
   "name": "python"
  }
 },
 "nbformat": 4,
 "nbformat_minor": 2
}
