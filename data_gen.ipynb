{
 "cells": [
  {
   "cell_type": "code",
   "execution_count": 12,
   "metadata": {},
   "outputs": [],
   "source": [
    "import graph_constructor as gc\n",
    "import os, csv\n",
    "import pandas as pd \n"
   ]
  },
  {
   "cell_type": "code",
   "execution_count": 9,
   "metadata": {},
   "outputs": [],
   "source": [
    "# Load dataframe to initiate Nodes\n",
    "ps1_df=pd.read_csv('chls_1JB0.csv')\n",
    "ps1_df.drop(columns=['Index'], inplace=True)\n",
    "ps1_df['Energy (cm^-1)'] = float('nan')\n",
    "\n",
    "# Load site energy directory\n",
    "ps1_site_energy_dir = os.getcwd() + '\\site energies\\PSI'\n",
    "\n",
    "for i in range(len(os.listdir(ps1_site_energy_dir))):\n",
    "    df_energy = pd.read_csv(ps1_site_energy_dir + '\\\\' + os.listdir(ps1_site_energy_dir)[i])\n",
    "    # merged_df = pd.merge(merged_df, df_energy, on='ID', how='left') #Merge two data frames \n",
    "    # df['Energy (cm^-1)']=df['Energy (cm^-1)'].fillna((df_energy.set_index)('ID')['Energy (cm^-1)'])\n",
    "    ps1_df = ps1_df.set_index('ID').combine_first(df_energy.set_index('ID')).reset_index()"
   ]
  },
  {
   "cell_type": "code",
   "execution_count": 14,
   "metadata": {},
   "outputs": [],
   "source": [
    "g = gc.Graph()\n",
    "N = 96\n",
    "#Initialize all nodes\n",
    "for i in range(N): \n",
    "    g.addNode(gc.Node(ps1_df, i))\n",
    "\n",
    "for i in range(N):\n",
    "    for j in range(N):\n",
    "        if i != j:\n",
    "            node_i = g.nodes[i]\n",
    "            node_j = g.nodes[j]\n",
    "            edge_add = gc.Edge(node_i, node_j)\n",
    "            edge_add.setWeight(gc.transfer_rate(node_i, node_j))\n",
    "            g.addEdge(edge_add)\n",
    "\n",
    "g.init_Weights()\n",
    "g.init_Costs()\n",
    "g.P700lookup()\n",
    "fields = ['ID', 'inStrength', 'outStrength', 'farness', 'BC', 'transferToP700', 'euclidean_distance_to_P700']\n",
    "\n",
    "chls = [str(i) for i in g.nodes] \n",
    "inStrengths = [g.nodeInStrength(g.nodes[i]) for i in range(len(chls))]\n",
    "outStrengths = [g.nodeOutStrength(g.nodes[i]) for i in range(len(chls))]\n",
    "transferToP700 = [g.transferToP700(g.nodes[i]) for i in range(len(chls))]\n",
    "p700_euclidean_distances =[g.euclidean_node_P700distance(g.nodes[i]) for i in range(len(chls))]\n",
    "# distances = [min( g.distance(g.nodes[i], g.nodes[0]), g.distance(g.nodes[i], g.nodes[3]) ) for i in range(len(chls))]\n",
    "distances = []\n",
    "for i in range(len(chls)):\n",
    "    dijkstra_run = g.dijkstra(g.nodes[i]) \n",
    "    to_append = min(dijkstra_run[0][g.nodes[0]], dijkstra_run[0][g.nodes[3]])\n",
    "    distances.append(to_append)\n",
    "\n",
    "bc_dict = g.betweenessCentrality()\n",
    "\n",
    "BCs = [bc_dict[g.nodes[i]] for i in range(len(chls))]\n",
    "\n",
    "filename = os.path.join(os.getcwd(), \"data\", \"PSI_chls.csv\")\n",
    "directory = os.path.dirname(filename)\n",
    "if not os.path.exists(directory):\n",
    "    os.makedirs(directory)\n",
    "\n",
    "with open(filename, mode=\"w\", newline=\"\") as file:\n",
    "    writer = csv.DictWriter(file, fieldnames=fields)\n",
    "    \n",
    "    # Write the header row\n",
    "    writer.writeheader()\n",
    "    \n",
    "    for i in range(len(chls)):\n",
    "        row = {'ID': chls[i], 'inStrength': inStrengths[i], 'outStrength': outStrengths[i], 'farness': distances[i], 'transferToP700': transferToP700[i], 'BC': BCs[i], \n",
    "               'euclidean_distance_to_P700': p700_euclidean_distances[i]}\n",
    "        writer.writerow(row)\n"
   ]
  }
 ],
 "metadata": {
  "kernelspec": {
   "display_name": "base",
   "language": "python",
   "name": "python3"
  },
  "language_info": {
   "codemirror_mode": {
    "name": "ipython",
    "version": 3
   },
   "file_extension": ".py",
   "mimetype": "text/x-python",
   "name": "python",
   "nbconvert_exporter": "python",
   "pygments_lexer": "ipython3",
   "version": "3.9.7"
  }
 },
 "nbformat": 4,
 "nbformat_minor": 2
}
